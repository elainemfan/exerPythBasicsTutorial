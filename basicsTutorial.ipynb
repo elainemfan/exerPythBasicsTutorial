{
 "cells": [
  {
   "cell_type": "markdown",
   "source": [
    "# Python Basics Tutorial\n",
    "\n",
    "Go through the Lean the Basics section at https://www.learnpython.org/\n",
    "Run each code block in a separate cell in this Jupyter Notebook. An easy shortcut is to hit Shift-Enter after entering your code to run the code in the cell and create a new cell below."
   ],
   "metadata": {}
  },
  {
   "cell_type": "code",
   "execution_count": 7,
   "source": [
    "conda -V \n",
    "conda create --name Basics ipykernel \n",
    "\n",
    "Nevermind. Already installed packages on Anaconda Navigator."
   ],
   "outputs": [
    {
     "output_type": "error",
     "ename": "SyntaxError",
     "evalue": "invalid syntax (<ipython-input-7-34a0f126bc23>, line 2)",
     "traceback": [
      "\u001b[0;36m  File \u001b[0;32m\"<ipython-input-7-34a0f126bc23>\"\u001b[0;36m, line \u001b[0;32m2\u001b[0m\n\u001b[0;31m    conda create --name Basics ipykernel\u001b[0m\n\u001b[0m          ^\u001b[0m\n\u001b[0;31mSyntaxError\u001b[0m\u001b[0;31m:\u001b[0m invalid syntax\n"
     ]
    }
   ],
   "metadata": {}
  },
  {
   "cell_type": "code",
   "execution_count": null,
   "source": [
    " https://www.learnpython.org/ not updated"
   ],
   "outputs": [],
   "metadata": {}
  }
 ],
 "metadata": {
  "language_info": {
   "codemirror_mode": {
    "name": "ipython",
    "version": 3
   },
   "file_extension": ".py",
   "mimetype": "text/x-python",
   "name": "python",
   "nbconvert_exporter": "python",
   "pygments_lexer": "ipython3",
   "version": "3.8.8"
  },
  "orig_nbformat": 2,
  "kernelspec": {
   "name": "python3",
   "display_name": "Python 3.8.8 64-bit ('base': conda)"
  },
  "interpreter": {
   "hash": "ceeeedb85c0ef194a1205176bf405a3767ad7aeb6287bd669b0bb225ba1e139c"
  }
 },
 "nbformat": 4,
 "nbformat_minor": 2
}